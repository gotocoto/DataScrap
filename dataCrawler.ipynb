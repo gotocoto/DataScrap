{
 "cells": [
  {
   "cell_type": "code",
   "execution_count": 6,
   "metadata": {},
   "outputs": [
    {
     "name": "stdout",
     "output_type": "stream",
     "text": [
      "Collecting pyshadow\n",
      "  Downloading pyshadow-0.0.5-py3-none-any.whl.metadata (7.7 kB)\n",
      "Collecting multipledispatch>=0.6.0 (from pyshadow)\n",
      "  Downloading multipledispatch-1.0.0-py3-none-any.whl.metadata (3.8 kB)\n",
      "Requirement already satisfied: selenium>=3.141.0 in ./.venv/lib/python3.11/site-packages (from pyshadow) (4.18.1)\n",
      "Collecting webdriver-manager>=2.5.3 (from pyshadow)\n",
      "  Downloading webdriver_manager-4.0.1-py2.py3-none-any.whl.metadata (12 kB)\n",
      "Requirement already satisfied: urllib3<3,>=1.26 in ./.venv/lib/python3.11/site-packages (from urllib3[socks]<3,>=1.26->selenium>=3.141.0->pyshadow) (2.1.0)\n",
      "Requirement already satisfied: trio~=0.17 in ./.venv/lib/python3.11/site-packages (from selenium>=3.141.0->pyshadow) (0.25.0)\n",
      "Requirement already satisfied: trio-websocket~=0.9 in ./.venv/lib/python3.11/site-packages (from selenium>=3.141.0->pyshadow) (0.11.1)\n",
      "Requirement already satisfied: certifi>=2021.10.8 in ./.venv/lib/python3.11/site-packages (from selenium>=3.141.0->pyshadow) (2023.11.17)\n",
      "Requirement already satisfied: typing_extensions>=4.9.0 in ./.venv/lib/python3.11/site-packages (from selenium>=3.141.0->pyshadow) (4.9.0)\n",
      "Requirement already satisfied: requests in ./.venv/lib/python3.11/site-packages (from webdriver-manager>=2.5.3->pyshadow) (2.31.0)\n",
      "Collecting python-dotenv (from webdriver-manager>=2.5.3->pyshadow)\n",
      "  Downloading python_dotenv-1.0.1-py3-none-any.whl.metadata (23 kB)\n",
      "Requirement already satisfied: packaging in ./.venv/lib/python3.11/site-packages (from webdriver-manager>=2.5.3->pyshadow) (23.2)\n",
      "Requirement already satisfied: attrs>=23.2.0 in ./.venv/lib/python3.11/site-packages (from trio~=0.17->selenium>=3.141.0->pyshadow) (23.2.0)\n",
      "Requirement already satisfied: sortedcontainers in ./.venv/lib/python3.11/site-packages (from trio~=0.17->selenium>=3.141.0->pyshadow) (2.4.0)\n",
      "Requirement already satisfied: idna in ./.venv/lib/python3.11/site-packages (from trio~=0.17->selenium>=3.141.0->pyshadow) (3.6)\n",
      "Requirement already satisfied: outcome in ./.venv/lib/python3.11/site-packages (from trio~=0.17->selenium>=3.141.0->pyshadow) (1.3.0.post0)\n",
      "Requirement already satisfied: sniffio>=1.3.0 in ./.venv/lib/python3.11/site-packages (from trio~=0.17->selenium>=3.141.0->pyshadow) (1.3.1)\n",
      "Requirement already satisfied: wsproto>=0.14 in ./.venv/lib/python3.11/site-packages (from trio-websocket~=0.9->selenium>=3.141.0->pyshadow) (1.2.0)\n",
      "Requirement already satisfied: pysocks!=1.5.7,<2.0,>=1.5.6 in ./.venv/lib/python3.11/site-packages (from urllib3[socks]<3,>=1.26->selenium>=3.141.0->pyshadow) (1.7.1)\n",
      "Requirement already satisfied: charset-normalizer<4,>=2 in ./.venv/lib/python3.11/site-packages (from requests->webdriver-manager>=2.5.3->pyshadow) (3.3.2)\n",
      "Requirement already satisfied: h11<1,>=0.9.0 in ./.venv/lib/python3.11/site-packages (from wsproto>=0.14->trio-websocket~=0.9->selenium>=3.141.0->pyshadow) (0.14.0)\n",
      "Downloading pyshadow-0.0.5-py3-none-any.whl (14 kB)\n",
      "Downloading multipledispatch-1.0.0-py3-none-any.whl (12 kB)\n",
      "Downloading webdriver_manager-4.0.1-py2.py3-none-any.whl (27 kB)\n",
      "Downloading python_dotenv-1.0.1-py3-none-any.whl (19 kB)\n",
      "Installing collected packages: multipledispatch, python-dotenv, webdriver-manager, pyshadow\n",
      "Successfully installed multipledispatch-1.0.0 pyshadow-0.0.5 python-dotenv-1.0.1 webdriver-manager-4.0.1\n"
     ]
    }
   ],
   "source": [
    "!pip install pyshadow"
   ]
  },
  {
   "cell_type": "code",
   "execution_count": 1,
   "metadata": {},
   "outputs": [],
   "source": [
    "from selenium import webdriver\n",
    "\n",
    "# Next 2 lines are needed to specify the path to your geckodriver\n",
    "geckodriver_path = \"/snap/bin/geckodriver\"\n",
    "driver_service = webdriver.FirefoxService(executable_path=geckodriver_path)\n",
    "\n",
    "browser = webdriver.Firefox(service=driver_service)\n",
    "browser.install_addon(\"ublock.xpi\", temporary=True)\n",
    "# browser = webdriver.Firefox() # Originial Example\n",
    "#browser.get(\"http://localhost:8000\")\n",
    "\n",
    "# get google.co.in \n",
    "page = \"https://www.foxnews.com/politics/sullivan-rips-reporters-question-biden-swearing-asking-when-did-stop-beating-spouse\"\n",
    "browser.get(page) \n"
   ]
  },
  {
   "cell_type": "code",
   "execution_count": 27,
   "metadata": {},
   "outputs": [
    {
     "name": "stdout",
     "output_type": "stream",
     "text": [
      "37\n"
     ]
    },
    {
     "ename": "MoveTargetOutOfBoundsException",
     "evalue": "Message: Move target (210, -1691) is out of bounds of viewport dimensions (925, 920)\nStacktrace:\nRemoteError@chrome://remote/content/shared/RemoteError.sys.mjs:8:8\nWebDriverError@chrome://remote/content/shared/webdriver/Errors.sys.mjs:192:5\nMoveTargetOutOfBoundsError@chrome://remote/content/shared/webdriver/Errors.sys.mjs:478:5\nassertInViewPort@chrome://remote/content/shared/webdriver/Actions.sys.mjs:2371:11\ndispatch@chrome://remote/content/shared/webdriver/Actions.sys.mjs:1152:21\ndispatch/pendingEvents<@chrome://remote/content/shared/webdriver/Actions.sys.mjs:2040:14\ndispatch@chrome://remote/content/shared/webdriver/Actions.sys.mjs:2039:39\ndispatch/chainEvents<@chrome://remote/content/shared/webdriver/Actions.sys.mjs:1950:27\ndispatch@chrome://remote/content/shared/webdriver/Actions.sys.mjs:1952:7\nperformActions@chrome://remote/content/marionette/actors/MarionetteCommandsChild.sys.mjs:508:23\nreceiveMessage@chrome://remote/content/marionette/actors/MarionetteCommandsChild.sys.mjs:143:31\n",
     "output_type": "error",
     "traceback": [
      "\u001b[0;31m---------------------------------------------------------------------------\u001b[0m",
      "\u001b[0;31mMoveTargetOutOfBoundsException\u001b[0m            Traceback (most recent call last)",
      "Cell \u001b[0;32mIn[27], line 14\u001b[0m\n\u001b[1;32m     12\u001b[0m     action_chains\u001b[38;5;241m.\u001b[39mmove_to_element(element)\n\u001b[1;32m     13\u001b[0m     action_chains\u001b[38;5;241m.\u001b[39mclick(element)\n\u001b[0;32m---> 14\u001b[0m \u001b[43maction_chains\u001b[49m\u001b[38;5;241;43m.\u001b[39;49m\u001b[43mperform\u001b[49m\u001b[43m(\u001b[49m\u001b[43m)\u001b[49m\n",
      "File \u001b[0;32m~/Projects/DataScrap/.venv/lib/python3.11/site-packages/selenium/webdriver/common/action_chains.py:94\u001b[0m, in \u001b[0;36mActionChains.perform\u001b[0;34m(self)\u001b[0m\n\u001b[1;32m     92\u001b[0m \u001b[38;5;28;01mdef\u001b[39;00m \u001b[38;5;21mperform\u001b[39m(\u001b[38;5;28mself\u001b[39m) \u001b[38;5;241m-\u001b[39m\u001b[38;5;241m>\u001b[39m \u001b[38;5;28;01mNone\u001b[39;00m:\n\u001b[1;32m     93\u001b[0m \u001b[38;5;250m    \u001b[39m\u001b[38;5;124;03m\"\"\"Performs all stored actions.\"\"\"\u001b[39;00m\n\u001b[0;32m---> 94\u001b[0m     \u001b[38;5;28;43mself\u001b[39;49m\u001b[38;5;241;43m.\u001b[39;49m\u001b[43mw3c_actions\u001b[49m\u001b[38;5;241;43m.\u001b[39;49m\u001b[43mperform\u001b[49m\u001b[43m(\u001b[49m\u001b[43m)\u001b[49m\n",
      "File \u001b[0;32m~/Projects/DataScrap/.venv/lib/python3.11/site-packages/selenium/webdriver/common/actions/action_builder.py:96\u001b[0m, in \u001b[0;36mActionBuilder.perform\u001b[0;34m(self)\u001b[0m\n\u001b[1;32m     94\u001b[0m         enc[\u001b[38;5;124m\"\u001b[39m\u001b[38;5;124mactions\u001b[39m\u001b[38;5;124m\"\u001b[39m]\u001b[38;5;241m.\u001b[39mappend(encoded)\n\u001b[1;32m     95\u001b[0m         device\u001b[38;5;241m.\u001b[39mactions \u001b[38;5;241m=\u001b[39m []\n\u001b[0;32m---> 96\u001b[0m \u001b[38;5;28;43mself\u001b[39;49m\u001b[38;5;241;43m.\u001b[39;49m\u001b[43mdriver\u001b[49m\u001b[38;5;241;43m.\u001b[39;49m\u001b[43mexecute\u001b[49m\u001b[43m(\u001b[49m\u001b[43mCommand\u001b[49m\u001b[38;5;241;43m.\u001b[39;49m\u001b[43mW3C_ACTIONS\u001b[49m\u001b[43m,\u001b[49m\u001b[43m \u001b[49m\u001b[43menc\u001b[49m\u001b[43m)\u001b[49m\n",
      "File \u001b[0;32m~/Projects/DataScrap/.venv/lib/python3.11/site-packages/selenium/webdriver/remote/webdriver.py:347\u001b[0m, in \u001b[0;36mWebDriver.execute\u001b[0;34m(self, driver_command, params)\u001b[0m\n\u001b[1;32m    345\u001b[0m response \u001b[38;5;241m=\u001b[39m \u001b[38;5;28mself\u001b[39m\u001b[38;5;241m.\u001b[39mcommand_executor\u001b[38;5;241m.\u001b[39mexecute(driver_command, params)\n\u001b[1;32m    346\u001b[0m \u001b[38;5;28;01mif\u001b[39;00m response:\n\u001b[0;32m--> 347\u001b[0m     \u001b[38;5;28;43mself\u001b[39;49m\u001b[38;5;241;43m.\u001b[39;49m\u001b[43merror_handler\u001b[49m\u001b[38;5;241;43m.\u001b[39;49m\u001b[43mcheck_response\u001b[49m\u001b[43m(\u001b[49m\u001b[43mresponse\u001b[49m\u001b[43m)\u001b[49m\n\u001b[1;32m    348\u001b[0m     response[\u001b[38;5;124m\"\u001b[39m\u001b[38;5;124mvalue\u001b[39m\u001b[38;5;124m\"\u001b[39m] \u001b[38;5;241m=\u001b[39m \u001b[38;5;28mself\u001b[39m\u001b[38;5;241m.\u001b[39m_unwrap_value(response\u001b[38;5;241m.\u001b[39mget(\u001b[38;5;124m\"\u001b[39m\u001b[38;5;124mvalue\u001b[39m\u001b[38;5;124m\"\u001b[39m, \u001b[38;5;28;01mNone\u001b[39;00m))\n\u001b[1;32m    349\u001b[0m     \u001b[38;5;28;01mreturn\u001b[39;00m response\n",
      "File \u001b[0;32m~/Projects/DataScrap/.venv/lib/python3.11/site-packages/selenium/webdriver/remote/errorhandler.py:229\u001b[0m, in \u001b[0;36mErrorHandler.check_response\u001b[0;34m(self, response)\u001b[0m\n\u001b[1;32m    227\u001b[0m         alert_text \u001b[38;5;241m=\u001b[39m value[\u001b[38;5;124m\"\u001b[39m\u001b[38;5;124malert\u001b[39m\u001b[38;5;124m\"\u001b[39m]\u001b[38;5;241m.\u001b[39mget(\u001b[38;5;124m\"\u001b[39m\u001b[38;5;124mtext\u001b[39m\u001b[38;5;124m\"\u001b[39m)\n\u001b[1;32m    228\u001b[0m     \u001b[38;5;28;01mraise\u001b[39;00m exception_class(message, screen, stacktrace, alert_text)  \u001b[38;5;66;03m# type: ignore[call-arg]  # mypy is not smart enough here\u001b[39;00m\n\u001b[0;32m--> 229\u001b[0m \u001b[38;5;28;01mraise\u001b[39;00m exception_class(message, screen, stacktrace)\n",
      "\u001b[0;31mMoveTargetOutOfBoundsException\u001b[0m: Message: Move target (210, -1691) is out of bounds of viewport dimensions (925, 920)\nStacktrace:\nRemoteError@chrome://remote/content/shared/RemoteError.sys.mjs:8:8\nWebDriverError@chrome://remote/content/shared/webdriver/Errors.sys.mjs:192:5\nMoveTargetOutOfBoundsError@chrome://remote/content/shared/webdriver/Errors.sys.mjs:478:5\nassertInViewPort@chrome://remote/content/shared/webdriver/Actions.sys.mjs:2371:11\ndispatch@chrome://remote/content/shared/webdriver/Actions.sys.mjs:1152:21\ndispatch/pendingEvents<@chrome://remote/content/shared/webdriver/Actions.sys.mjs:2040:14\ndispatch@chrome://remote/content/shared/webdriver/Actions.sys.mjs:2039:39\ndispatch/chainEvents<@chrome://remote/content/shared/webdriver/Actions.sys.mjs:1950:27\ndispatch@chrome://remote/content/shared/webdriver/Actions.sys.mjs:1952:7\nperformActions@chrome://remote/content/marionette/actors/MarionetteCommandsChild.sys.mjs:508:23\nreceiveMessage@chrome://remote/content/marionette/actors/MarionetteCommandsChild.sys.mjs:143:31\n"
     ]
    }
   ],
   "source": [
    "from pyshadow.main import Shadow\n",
    "from selenium.webdriver.common.action_chains import ActionChains\n",
    "'''\n",
    "from selenium.webdriver.common.by import By\n",
    "element = browser.find_element(by=By.XPATH, value=\"/div/div/div/div/div/div/div/div/div[2]/div[3]/ow-ads_conversation_comment-list/ul/li[1]/ow-ads_conversation_comment/article/div/div/ul/li[38]/div[2]/div/div[2]/button\")\n",
    "element.click()'''\n",
    "shadow = Shadow(browser)\n",
    "elements = shadow.find_elements(\"button[aria-label='Show more replies']\")\n",
    "print(len(elements))\n",
    "action_chains = ActionChains(browser)\n",
    "for element in elements:\n",
    "    action_chains.move_to_element(element)\n",
    "    action_chains.click(element)\n",
    "action_chains.perform()\n"
   ]
  },
  {
   "cell_type": "code",
   "execution_count": 3,
   "metadata": {},
   "outputs": [
    {
     "name": "stdout",
     "output_type": "stream",
     "text": [
      "[]\n"
     ]
    }
   ],
   "source": [
    "from selenium.webdriver.common.by import By\n",
    "#browser.get(page)\n",
    "buttons = browser.find_elements(by=By.CSS_SELECTOR, value=\"button\")\n",
    "for button in buttons:\n",
    "    button.click()\n",
    "print(buttons)"
   ]
  },
  {
   "cell_type": "code",
   "execution_count": 3,
   "metadata": {},
   "outputs": [],
   "source": [
    "\n",
    "with open('page.html', 'w') as file:\n",
    "    file.write(browser.page_source)"
   ]
  },
  {
   "cell_type": "code",
   "execution_count": 4,
   "metadata": {},
   "outputs": [
    {
     "name": "stdout",
     "output_type": "stream",
     "text": [
      "[]\n"
     ]
    }
   ],
   "source": [
    "import logging\n",
    "logging.basicConfig(level=logging.INFO)\n",
    "from selenium import webdriver\n",
    "from selenium.webdriver.common.by import By\n",
    "#service = webdriver.FirefoxService()\n",
    "#driver = webdriver.Firefox(service=service)\n",
    "\n",
    "geckodriver_path = \"/snap/bin/geckodriver\"\n",
    "driver_service = webdriver.FirefoxService(executable_path=geckodriver_path)\n",
    "\n",
    "driver = webdriver.Firefox(service=driver_service)\n",
    "\n",
    "driver.install_addon(\"ublock.xpi\", temporary=True)\n",
    "\n",
    "page = \"https://www.foxnews.com/politics/sullivan-rips-reporters-question-biden-swearing-asking-when-did-stop-beating-spouse\"\n",
    "driver.get(page)\n",
    "\n",
    "title = driver.title\n",
    "\n",
    "driver.implicitly_wait(0.5)\n",
    "\n",
    "buttons = driver.find_elements(by=By.CSS_SELECTOR,value=\"button\")\n",
    "print(buttons)\n",
    "#buttons[0].click()\n"
   ]
  },
  {
   "cell_type": "code",
   "execution_count": 34,
   "metadata": {},
   "outputs": [
    {
     "name": "stdout",
     "output_type": "stream",
     "text": [
      "[]\n"
     ]
    },
    {
     "data": {
      "text/plain": [
       "'\\nfor i in elements:\\n    print(i)\\n    for p in i.find_elements(By.CSS_SELECTOR,\"*\"):\\n        print(p)'"
      ]
     },
     "execution_count": 34,
     "metadata": {},
     "output_type": "execute_result"
    }
   ],
   "source": [
    "#driver.switch_to.frame()\n",
    "elements = driver.find_element(By.ID, \"spotim-specific\").find_elements(By.CSS_SELECTOR,\"div\")[6].find_elements(By.CSS_SELECTOR,\"*\")[0]\n",
    "driver.\n",
    "print(elements.find_elements(By.CSS_SELECTOR,\"*\"))\n",
    "\n",
    "'''\n",
    "for i in elements:\n",
    "    print(i)\n",
    "    for p in i.find_elements(By.CSS_SELECTOR,\"*\"):\n",
    "        print(p)'''\n",
    "#print(elements)\n",
    "#i = 10\n",
    "#elements[0]"
   ]
  },
  {
   "cell_type": "code",
   "execution_count": 44,
   "metadata": {},
   "outputs": [
    {
     "name": "stdout",
     "output_type": "stream",
     "text": [
      "[]\n",
      "[]\n",
      "[]\n",
      "[]\n",
      "[]\n"
     ]
    }
   ],
   "source": [
    "save_directory = \"test\"\n",
    "driver.switch_to.default_content()\n",
    "iframe = driver.find_elements(By.XPATH, \"//iframe\")\n",
    "for frame in iframe:\n",
    "    driver.switch_to.default_content()\n",
    "    driver.switch_to.frame(frame)\n",
    "    print(driver.find_elements(By.XPATH, \"//button[contains(@class, 'spcv_showMoreRepliesText') or contains(@class, 'it>')]\"))\n",
    "#print(driver.find_elements(By.XPATH, \"//button[contains(@class, 'spcv_showMoreRepliesText') or contains(@class, 'it>')]\"))"
   ]
  }
 ],
 "metadata": {
  "kernelspec": {
   "display_name": ".venv",
   "language": "python",
   "name": "python3"
  },
  "language_info": {
   "codemirror_mode": {
    "name": "ipython",
    "version": 3
   },
   "file_extension": ".py",
   "mimetype": "text/x-python",
   "name": "python",
   "nbconvert_exporter": "python",
   "pygments_lexer": "ipython3",
   "version": "3.11.0rc1"
  }
 },
 "nbformat": 4,
 "nbformat_minor": 2
}
